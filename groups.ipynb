{
 "cells": [
  {
   "cell_type": "markdown",
   "metadata": {},
   "source": [
    "# DeTT&CT Threat Actor Intelligence (Groups)\n",
    "\n",
    "This notebook is for demo purposes. \n",
    "\n",
    "For the full instructions visit https://github.com/rabobank-cdc/DeTTECT/wiki/Threat-actor-group-mapping\n",
    "\n",
    "#### 1. Get Help!\n",
    "\n",
    "Lets start by looking at the help file for the groups (g) functionality "
   ]
  },
  {
   "cell_type": "code",
   "execution_count": null,
   "metadata": {},
   "outputs": [],
   "source": [
    "!python dettect.py g -h"
   ]
  },
  {
   "cell_type": "markdown",
   "metadata": {},
   "source": [
    "#### 2. Generate a layer file with all actors\n",
    "\n",
    "`dettect.py g` generates a layer file containing a heat map based on all threat actor data within ATT&CK. The darker the colour in the heat map, the more often the technique is being used among groups.  "
   ]
  },
  {
   "cell_type": "code",
   "execution_count": null,
   "metadata": {},
   "outputs": [],
   "source": [
    "!python dettect.py g"
   ]
  },
  {
   "cell_type": "markdown",
   "metadata": {},
   "source": [
    "#### 3. Generate a layer file with only a select set of actors\n",
    "\n",
    "You can add groups by their ID or Alias separated by commas"
   ]
  },
  {
   "cell_type": "code",
   "execution_count": null,
   "metadata": {},
   "outputs": [],
   "source": [
    "!python dettect.py g -g APT1"
   ]
  },
  {
   "cell_type": "markdown",
   "metadata": {},
   "source": [
    "#### 4. Generate a layer file using a group yaml file"
   ]
  },
  {
   "cell_type": "code",
   "execution_count": null,
   "metadata": {},
   "outputs": [],
   "source": [
    "!python dettect.py g -g sample-data/groups.yaml"
   ]
  },
  {
   "cell_type": "code",
   "execution_count": null,
   "metadata": {},
   "outputs": [],
   "source": [
    "!python dettect.py generic -u techniques"
   ]
  },
  {
   "cell_type": "markdown",
   "metadata": {},
   "source": [
    "Feel free to experiment with other options. You can even overlay group layers on top of data and technique layers.\n",
    "\n",
    "Use the help file and the link above to explore more options.\n",
    "\n",
    "To download the layer files, click on `File` and then `Open`, navigate to the `Output` folder, checkmark the files you want to download and click `download`.\n",
    "\n",
    "Then open the layer files you create using the Attack Navigator to open the generated layer https://mitre-attack.github.io/attack-navigator/enterprise/\n"
   ]
  }
 ],
 "metadata": {
  "kernelspec": {
   "display_name": "Python 3",
   "language": "python",
   "name": "python3"
  },
  "language_info": {
   "codemirror_mode": {
    "name": "ipython",
    "version": 3
   },
   "file_extension": ".py",
   "mimetype": "text/x-python",
   "name": "python",
   "nbconvert_exporter": "python",
   "pygments_lexer": "ipython3",
   "version": "3.7.6"
  },
  "varInspector": {
   "cols": {
    "lenName": 16,
    "lenType": 16,
    "lenVar": 40
   },
   "kernels_config": {
    "python": {
     "delete_cmd_postfix": "",
     "delete_cmd_prefix": "del ",
     "library": "var_list.py",
     "varRefreshCmd": "print(var_dic_list())"
    },
    "r": {
     "delete_cmd_postfix": ") ",
     "delete_cmd_prefix": "rm(",
     "library": "var_list.r",
     "varRefreshCmd": "cat(var_dic_list()) "
    }
   },
   "types_to_exclude": [
    "module",
    "function",
    "builtin_function_or_method",
    "instance",
    "_Feature"
   ],
   "window_display": false
  }
 },
 "nbformat": 4,
 "nbformat_minor": 4
}

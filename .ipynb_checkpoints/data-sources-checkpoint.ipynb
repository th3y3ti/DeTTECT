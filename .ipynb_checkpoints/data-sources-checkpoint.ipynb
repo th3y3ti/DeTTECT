{
 "cells": [
  {
   "cell_type": "markdown",
   "metadata": {},
   "source": [
    "# DeTT&CT Data Source Coverage"
   ]
  },
  {
   "cell_type": "markdown",
   "metadata": {},
   "source": [
    "Show the help file for just data source"
   ]
  },
  {
   "cell_type": "code",
   "execution_count": null,
   "metadata": {},
   "outputs": [],
   "source": [
    "!python dettect.py ds -h"
   ]
  },
  {
   "cell_type": "markdown",
   "metadata": {},
   "source": [
    "# Data Sources\n",
    "\n",
    "<hr>\n",
    "\n",
    "\n",
    "##  Metrics\n",
    "We can use DeTTECT to collect some basic metrics on the number of unique techniques by data source."
   ]
  },
  {
   "cell_type": "code",
   "execution_count": null,
   "metadata": {},
   "outputs": [],
   "source": [
    "!python dettect.py generic --datasources"
   ]
  },
  {
   "cell_type": "markdown",
   "metadata": {},
   "source": [
    "## Administration File\n",
    "\n",
    "We need to start by creating a data source administration file. Administration files are written in the YAML text format. Example administration files can be found in `./sample-data`."
   ]
  },
  {
   "cell_type": "code",
   "execution_count": null,
   "metadata": {},
   "outputs": [],
   "source": [
    "!python dettect.py datasource -h"
   ]
  },
  {
   "cell_type": "markdown",
   "metadata": {},
   "source": [
    "\n",
    "\n",
    "### Validate YAML Syntax\n",
    "\n",
    "I created a data source administration file for Carbon Black Response. Normally CbR would just be a `product` in a data sources administration file, but this is helpful to gauge the data sources and technique visibility that it can provide. \n",
    "\n",
    "We can confirm that the file conforms to the proper syntax by running the `--health` command. It will only generate output if there is an error."
   ]
  },
  {
   "cell_type": "code",
   "execution_count": null,
   "metadata": {},
   "outputs": [],
   "source": [
    "!python dettect.py datasource -fd ./sample-data/data-sources-windows-hosts.yaml --health"
   ]
  },
  {
   "cell_type": "markdown",
   "metadata": {},
   "source": [
    "\n",
    "### Generate ATT&CK Navigator Layers\n",
    "\n",
    "Once the data sources administration file has passed the health check, we can create an ATT&CK navigator layer from it:"
   ]
  },
  {
   "cell_type": "code",
   "execution_count": null,
   "metadata": {},
   "outputs": [],
   "source": [
    "!python dettect.py datasource -fd ./sample-data/data-sources-windows-hosts.yaml -l"
   ]
  },
  {
   "cell_type": "markdown",
   "metadata": {},
   "source": [
    "We can take our navigator layer and load MITRE's ATT&CK Navigator.\n",
    "\n",
    "### Generate Excel Spreadsheet\n",
    "\n",
    "We can also create our data source administration file as an Excel spreadsheet:"
   ]
  },
  {
   "cell_type": "code",
   "execution_count": null,
   "metadata": {},
   "outputs": [],
   "source": [
    "!python dettect.py datasource -fd ./sample-data/data-sources-windows-hosts.yaml -e"
   ]
  }
 ],
 "metadata": {
  "kernelspec": {
   "display_name": "Python 3",
   "language": "python",
   "name": "python3"
  },
  "language_info": {
   "codemirror_mode": {
    "name": "ipython",
    "version": 3
   },
   "file_extension": ".py",
   "mimetype": "text/x-python",
   "name": "python",
   "nbconvert_exporter": "python",
   "pygments_lexer": "ipython3",
   "version": "3.7.6"
  },
  "varInspector": {
   "cols": {
    "lenName": 16,
    "lenType": 16,
    "lenVar": 40
   },
   "kernels_config": {
    "python": {
     "delete_cmd_postfix": "",
     "delete_cmd_prefix": "del ",
     "library": "var_list.py",
     "varRefreshCmd": "print(var_dic_list())"
    },
    "r": {
     "delete_cmd_postfix": ") ",
     "delete_cmd_prefix": "rm(",
     "library": "var_list.r",
     "varRefreshCmd": "cat(var_dic_list()) "
    }
   },
   "types_to_exclude": [
    "module",
    "function",
    "builtin_function_or_method",
    "instance",
    "_Feature"
   ],
   "window_display": false
  }
 },
 "nbformat": 4,
 "nbformat_minor": 4
}

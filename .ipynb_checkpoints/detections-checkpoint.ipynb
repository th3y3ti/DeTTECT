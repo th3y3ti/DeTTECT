{
 "cells": [
  {
   "cell_type": "markdown",
   "metadata": {},
   "source": [
    "# DeTT&CT Detection Coverage\n",
    "\n",
    "This notebook is for demo purposes.  \n",
    "\n",
    "For the full instructions visit https://github.com/rabobank-cdc/DeTTECT/wiki/Detection-coverage\n",
    "\n",
    "#### 1. Get some help\n",
    "\n",
    "Let's start by looking at the help file for the detection (d) functionality."
   ]
  },
  {
   "cell_type": "code",
   "execution_count": null,
   "metadata": {},
   "outputs": [],
   "source": [
    "!python dettect.py d -h"
   ]
  },
  {
   "cell_type": "markdown",
   "metadata": {},
   "source": [
    "#### 2. Generate a layer file\n",
    "\n",
    "Using the sample technique endpoints yaml file."
   ]
  },
  {
   "cell_type": "code",
   "execution_count": null,
   "metadata": {},
   "outputs": [],
   "source": [
    "!python dettect.py d -ft sample-data/techniques-administration-endpoints.yaml -l"
   ]
  },
  {
   "cell_type": "markdown",
   "metadata": {},
   "source": [
    "#### 3. Generate a graph"
   ]
  },
  {
   "cell_type": "code",
   "execution_count": null,
   "metadata": {},
   "outputs": [],
   "source": [
    "!python dettect.py d -ft sample-data/techniques-administration-endpoints.yaml -g"
   ]
  },
  {
   "cell_type": "markdown",
   "metadata": {},
   "source": [
    "#### 4. Create an overlay of techniques and data sources"
   ]
  },
  {
   "cell_type": "code",
   "execution_count": null,
   "metadata": {},
   "outputs": [],
   "source": [
    "!python dettect.py d -ft sample-data/techniques-administration-endpoints.yaml -o -fd sample-data/data-sources-endpoints.yaml"
   ]
  }
 ],
 "metadata": {
  "kernelspec": {
   "display_name": "Python 3",
   "language": "python",
   "name": "python3"
  },
  "language_info": {
   "codemirror_mode": {
    "name": "ipython",
    "version": 3
   },
   "file_extension": ".py",
   "mimetype": "text/x-python",
   "name": "python",
   "nbconvert_exporter": "python",
   "pygments_lexer": "ipython3",
   "version": "3.7.6"
  }
 },
 "nbformat": 4,
 "nbformat_minor": 4
}

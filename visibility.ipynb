{
 "cells": [
  {
   "cell_type": "markdown",
   "metadata": {},
   "source": [
    "# Welcome to DeTTECT"
   ]
  },
  {
   "cell_type": "markdown",
   "metadata": {},
   "source": [
    "[![Binder](https://mybinder.org/badge_logo.svg)](https://mybinder.org/v2/gh/th3y3ti/DeTTECT/master)"
   ]
  },
  {
   "cell_type": "code",
   "execution_count": 1,
   "metadata": {},
   "outputs": [
    {
     "name": "stdout",
     "output_type": "stream",
     "text": [
      "usage: dettect.py [-h] [--version] [-i]  ...\n",
      "\n",
      "Detect Tactics, Techniques & Combat Threats\n",
      "\n",
      "optional arguments:\n",
      "  -h, --help         show this help message and exit\n",
      "  --version          show program's version number and exit\n",
      "  -i, --interactive  launch the interactive menu, which has support for all\n",
      "                     modes\n",
      "\n",
      "MODE:\n",
      "  Select the mode to use. Every mode has its own arguments and help info\n",
      "  displayed using: {editor, datasource, visibility, detection, group,\n",
      "  generic} --help\n",
      "\n",
      "  \n",
      "    editor (e)       DeTT&CT Editor\n",
      "    datasource (ds)  data source mapping and quality\n",
      "    visibility (v)   visibility coverage mapping based on techniques and data\n",
      "                     sources\n",
      "    detection (d)    detection coverage mapping based on techniques\n",
      "    group (g)        threat actor group mapping\n",
      "    generic (ge)     includes: statistics on ATT&CK data source and updates on\n",
      "                     techniques, groups and software\n",
      "\n",
      "Source: https://github.com/rabobank-cdc/DeTTECT\n"
     ]
    }
   ],
   "source": [
    "!python dettect.py -h"
   ]
  },
  {
   "cell_type": "markdown",
   "metadata": {},
   "source": [
    "## Generate Technique Administration File\n",
    "\n",
    "Like we showed in the previous notebook, you need to transform your data sources administration file into a technique administration file."
   ]
  },
  {
   "cell_type": "code",
   "execution_count": 2,
   "metadata": {},
   "outputs": [
    {
     "name": "stdout",
     "output_type": "stream",
     "text": [
      "File written:   output/techniques-administration-carbon-black-response-windows-linux-macos.yaml\n"
     ]
    }
   ],
   "source": [
    "!python dettect.py datasource -fd ./sample-data/data-sources-cbr-response.yaml -y"
   ]
  },
  {
   "cell_type": "markdown",
   "metadata": {},
   "source": [
    "Once we have the technique administration file, we can likewise generate navigator layers and spreadsheets:\n",
    "\n",
    "## Generate Layer File"
   ]
  },
  {
   "cell_type": "code",
   "execution_count": 3,
   "metadata": {},
   "outputs": [
    {
     "name": "stdout",
     "output_type": "stream",
     "text": [
      "File written:   output/visibility_carbon-black-response.json\n"
     ]
    }
   ],
   "source": [
    "!python dettect.py visibility -fd ./sample-data/data-sources-cbr-response.yaml -ft ./output/techniques-administration-carbon-black-response-windows-linux-macos.yaml -l"
   ]
  },
  {
   "cell_type": "markdown",
   "metadata": {},
   "source": [
    "## Generate Spreadsheet"
   ]
  },
  {
   "cell_type": "code",
   "execution_count": 4,
   "metadata": {},
   "outputs": [
    {
     "name": "stdout",
     "output_type": "stream",
     "text": [
      "File written:   output/techniques.xlsx\n"
     ]
    }
   ],
   "source": [
    "!python dettect.py visibility -fd ./sample-data/data-sources-cbr-response.yaml -ft ./output/techniques-administration-carbon-black-response-windows-linux-macos.yaml -e"
   ]
  }
 ],
 "metadata": {
  "kernelspec": {
   "display_name": "Python 3",
   "language": "python",
   "name": "python3"
  },
  "language_info": {
   "codemirror_mode": {
    "name": "ipython",
    "version": 3
   },
   "file_extension": ".py",
   "mimetype": "text/x-python",
   "name": "python",
   "nbconvert_exporter": "python",
   "pygments_lexer": "ipython3",
   "version": "3.7.4"
  },
  "varInspector": {
   "cols": {
    "lenName": 16,
    "lenType": 16,
    "lenVar": 40
   },
   "kernels_config": {
    "python": {
     "delete_cmd_postfix": "",
     "delete_cmd_prefix": "del ",
     "library": "var_list.py",
     "varRefreshCmd": "print(var_dic_list())"
    },
    "r": {
     "delete_cmd_postfix": ") ",
     "delete_cmd_prefix": "rm(",
     "library": "var_list.r",
     "varRefreshCmd": "cat(var_dic_list()) "
    }
   },
   "types_to_exclude": [
    "module",
    "function",
    "builtin_function_or_method",
    "instance",
    "_Feature"
   ],
   "window_display": false
  }
 },
 "nbformat": 4,
 "nbformat_minor": 4
}
